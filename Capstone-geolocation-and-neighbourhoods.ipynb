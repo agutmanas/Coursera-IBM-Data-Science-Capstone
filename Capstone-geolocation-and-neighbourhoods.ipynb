{
 "cells": [
  {
   "cell_type": "markdown",
   "metadata": {},
   "source": [
    "# IBM Data Science Specialisation Capstone Project\n",
    "\n",
    "## by A. Gutmanas\n",
    "### Jan-Feb 2020\n",
    "\n",
    "This notebook will serve as a working document for my Capstone project in the Data Science Specialisation offered by IBM via Coursera.\n",
    "\n",
    "This will include data retrieval, cleanup and preparation, preliminary data exploration and visualisation, data analysis, model building, model evaluation and refinement, and a major portion of the final reporting."
   ]
  },
  {
   "cell_type": "code",
   "execution_count": 3,
   "metadata": {},
   "outputs": [],
   "source": [
    "import pandas as pd\n",
    "import numpy as np"
   ]
  },
  {
   "cell_type": "code",
   "execution_count": 4,
   "metadata": {},
   "outputs": [
    {
     "name": "stdout",
     "output_type": "stream",
     "text": [
      "Hello Capstone Project Course!\n"
     ]
    }
   ],
   "source": [
    "print(\"Hello Capstone Project Course!\")"
   ]
  },
  {
   "cell_type": "markdown",
   "metadata": {},
   "source": [
    "## Part 1:\n",
    "## Clustering neighbourhoods in Toronto\n",
    "\n",
    "### 1A: Obtain neighbourhood locations"
   ]
  }
 ],
 "metadata": {
  "kernelspec": {
   "display_name": "Python 3",
   "language": "python",
   "name": "python3"
  },
  "language_info": {
   "codemirror_mode": {
    "name": "ipython",
    "version": 3
   },
   "file_extension": ".py",
   "mimetype": "text/x-python",
   "name": "python",
   "nbconvert_exporter": "python",
   "pygments_lexer": "ipython3",
   "version": "3.8.1"
  }
 },
 "nbformat": 4,
 "nbformat_minor": 4
}
