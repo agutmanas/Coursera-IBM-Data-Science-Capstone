{
 "cells": [
  {
   "cell_type": "markdown",
   "metadata": {},
   "source": [
    "# Clustering Toronto Neighbourhoods\n",
    "\n",
    "### A. Gutmanas\n",
    "### Feb 2020\n"
   ]
  },
  {
   "cell_type": "markdown",
   "metadata": {},
   "source": [
    "\n",
    "---\n",
    "## Part 1:\n",
    "## Get, clean and load neighbourhood locations"
   ]
  },
  {
   "cell_type": "markdown",
   "metadata": {},
   "source": [
    "Despite the fact that a simple google search and some critical review points to the City of Toronto website (https://www.toronto.ca) and their \"Open Data\" portal: https://open.toronto.ca, which contains the necessary data, I will follow the instructions from the course.\n",
    "\n",
    "1. Scrape the list of postcodes for Toronto from Wiki page at https://en.wikipedia.org/wiki/List_of_postal_codes_of_Canada:_M and load into a dataframe.\n",
    "2. Drop rows where borough is _not assigned_.\n",
    "3. Normalise the dataframe so that neighbourhoods with the same postal code are combined into a comma-separated list."
   ]
  },
  {
   "cell_type": "markdown",
   "metadata": {},
   "source": [
    "Let's start by importing the necessary libraries. Some of them will be needed later."
   ]
  },
  {
   "cell_type": "code",
   "execution_count": null,
   "metadata": {},
   "outputs": [],
   "source": [
    "#!pip install folium    # uncomment if library not available\n",
    "#!pip install shapely   # uncomment if library not available"
   ]
  },
  {
   "cell_type": "code",
   "execution_count": 1,
   "metadata": {},
   "outputs": [],
   "source": [
    "# import libraries\n",
    "import json\n",
    "from shapely.geometry import shape, Point # will be needed later\n",
    "import pandas as pd\n",
    "import requests\n",
    "import folium\n",
    "import bs4"
   ]
  },
  {
   "cell_type": "markdown",
   "metadata": {},
   "source": [
    "Get the raw HTML from the Wikipedia page"
   ]
  },
  {
   "cell_type": "code",
   "execution_count": 2,
   "metadata": {},
   "outputs": [],
   "source": [
    "# get the raw data\n",
    "wiki_url = \"https://en.wikipedia.org/wiki/List_of_postal_codes_of_Canada:_M\"\n",
    "wiki_text = requests.get(wiki_url).text"
   ]
  },
  {
   "cell_type": "markdown",
   "metadata": {},
   "source": [
    "Find the actual table on the page, get column names (from _th_ tags) and values (from _td_ tags), load the resulting data into a dataframe. Of course, one could add the business logic of checking if values are \"Not assigned\" and combining neighbourhoods. But it seems to be a cleaner way not to do that here, even if it means we will first load and then drop some rows."
   ]
  },
  {
   "cell_type": "code",
   "execution_count": 3,
   "metadata": {},
   "outputs": [
    {
     "name": "stderr",
     "output_type": "stream",
     "text": [
      "/opt/local/Library/Frameworks/Python.framework/Versions/3.8/lib/python3.8/site-packages/bs4/__init__.py:177: UserWarning: No parser was explicitly specified, so I'm using the best available HTML parser for this system (\"lxml\"). This usually isn't a problem, but if you run this code on another system, or in a different virtual environment, it may use a different parser and behave differently.\n",
      "\n",
      "The code that caused this warning is on line 193 of the file /opt/local/Library/Frameworks/Python.framework/Versions/3.8/lib/python3.8/runpy.py. To get rid of this warning, change code that looks like this:\n",
      "\n",
      " BeautifulSoup(YOUR_MARKUP})\n",
      "\n",
      "to this:\n",
      "\n",
      " BeautifulSoup(YOUR_MARKUP, \"lxml\")\n",
      "\n",
      "  warnings.warn(self.NO_PARSER_SPECIFIED_WARNING % dict(\n"
     ]
    },
    {
     "data": {
      "text/html": [
       "<div>\n",
       "<style scoped>\n",
       "    .dataframe tbody tr th:only-of-type {\n",
       "        vertical-align: middle;\n",
       "    }\n",
       "\n",
       "    .dataframe tbody tr th {\n",
       "        vertical-align: top;\n",
       "    }\n",
       "\n",
       "    .dataframe thead th {\n",
       "        text-align: right;\n",
       "    }\n",
       "</style>\n",
       "<table border=\"1\" class=\"dataframe\">\n",
       "  <thead>\n",
       "    <tr style=\"text-align: right;\">\n",
       "      <th></th>\n",
       "      <th>Postcode</th>\n",
       "      <th>Borough</th>\n",
       "      <th>Neighbourhood</th>\n",
       "    </tr>\n",
       "  </thead>\n",
       "  <tbody>\n",
       "    <tr>\n",
       "      <th>0</th>\n",
       "      <td>M1A</td>\n",
       "      <td>Not assigned</td>\n",
       "      <td>Not assigned</td>\n",
       "    </tr>\n",
       "    <tr>\n",
       "      <th>1</th>\n",
       "      <td>M2A</td>\n",
       "      <td>Not assigned</td>\n",
       "      <td>Not assigned</td>\n",
       "    </tr>\n",
       "    <tr>\n",
       "      <th>2</th>\n",
       "      <td>M3A</td>\n",
       "      <td>North York</td>\n",
       "      <td>Parkwoods</td>\n",
       "    </tr>\n",
       "    <tr>\n",
       "      <th>3</th>\n",
       "      <td>M4A</td>\n",
       "      <td>North York</td>\n",
       "      <td>Victoria Village</td>\n",
       "    </tr>\n",
       "    <tr>\n",
       "      <th>4</th>\n",
       "      <td>M5A</td>\n",
       "      <td>Downtown Toronto</td>\n",
       "      <td>Harbourfront</td>\n",
       "    </tr>\n",
       "  </tbody>\n",
       "</table>\n",
       "</div>"
      ],
      "text/plain": [
       "  Postcode           Borough     Neighbourhood\n",
       "0      M1A      Not assigned      Not assigned\n",
       "1      M2A      Not assigned      Not assigned\n",
       "2      M3A        North York         Parkwoods\n",
       "3      M4A        North York  Victoria Village\n",
       "4      M5A  Downtown Toronto      Harbourfront"
      ]
     },
     "execution_count": 3,
     "metadata": {},
     "output_type": "execute_result"
    }
   ],
   "source": [
    "# find the table with Toronto postal codes\n",
    "wiki_tables = bs4.BeautifulSoup(wiki_text).find_all(\"table\", attrs={\"class\": \"wikitable sortable\"})\n",
    "\n",
    "cols = [x.get_text().strip() for x in wiki_tables[0].find_all(\"th\")]\n",
    "rows = wiki_tables[0].find_all(\"tr\")\n",
    "values = []\n",
    "for row in rows[1:]:\n",
    "    values.append([x.get_text().strip() for x in row.find_all(\"td\")])\n",
    "\n",
    "toronto_postcodes = pd.DataFrame(columns=cols, data=values)\n",
    "toronto_postcodes.head()"
   ]
  },
  {
   "cell_type": "markdown",
   "metadata": {},
   "source": [
    "Now, some cleanup. Drop \"Not assigned\" boroughs."
   ]
  },
  {
   "cell_type": "code",
   "execution_count": 4,
   "metadata": {},
   "outputs": [
    {
     "data": {
      "text/html": [
       "<div>\n",
       "<style scoped>\n",
       "    .dataframe tbody tr th:only-of-type {\n",
       "        vertical-align: middle;\n",
       "    }\n",
       "\n",
       "    .dataframe tbody tr th {\n",
       "        vertical-align: top;\n",
       "    }\n",
       "\n",
       "    .dataframe thead th {\n",
       "        text-align: right;\n",
       "    }\n",
       "</style>\n",
       "<table border=\"1\" class=\"dataframe\">\n",
       "  <thead>\n",
       "    <tr style=\"text-align: right;\">\n",
       "      <th></th>\n",
       "      <th>Postcode</th>\n",
       "      <th>Borough</th>\n",
       "      <th>Neighbourhood</th>\n",
       "    </tr>\n",
       "  </thead>\n",
       "  <tbody>\n",
       "    <tr>\n",
       "      <th>2</th>\n",
       "      <td>M3A</td>\n",
       "      <td>North York</td>\n",
       "      <td>Parkwoods</td>\n",
       "    </tr>\n",
       "    <tr>\n",
       "      <th>3</th>\n",
       "      <td>M4A</td>\n",
       "      <td>North York</td>\n",
       "      <td>Victoria Village</td>\n",
       "    </tr>\n",
       "    <tr>\n",
       "      <th>4</th>\n",
       "      <td>M5A</td>\n",
       "      <td>Downtown Toronto</td>\n",
       "      <td>Harbourfront</td>\n",
       "    </tr>\n",
       "    <tr>\n",
       "      <th>5</th>\n",
       "      <td>M6A</td>\n",
       "      <td>North York</td>\n",
       "      <td>Lawrence Heights</td>\n",
       "    </tr>\n",
       "    <tr>\n",
       "      <th>6</th>\n",
       "      <td>M6A</td>\n",
       "      <td>North York</td>\n",
       "      <td>Lawrence Manor</td>\n",
       "    </tr>\n",
       "  </tbody>\n",
       "</table>\n",
       "</div>"
      ],
      "text/plain": [
       "  Postcode           Borough     Neighbourhood\n",
       "2      M3A        North York         Parkwoods\n",
       "3      M4A        North York  Victoria Village\n",
       "4      M5A  Downtown Toronto      Harbourfront\n",
       "5      M6A        North York  Lawrence Heights\n",
       "6      M6A        North York    Lawrence Manor"
      ]
     },
     "execution_count": 4,
     "metadata": {},
     "output_type": "execute_result"
    }
   ],
   "source": [
    "toronto_postcodes.drop(toronto_postcodes.loc[toronto_postcodes['Borough']==\"Not assigned\"].index, inplace=True)\n",
    "toronto_postcodes.head()"
   ]
  },
  {
   "cell_type": "markdown",
   "metadata": {},
   "source": [
    "Check if there are any neighbourhoods that are \"Not assigned\" and copy the name of the corresponding borough instead. Check how many such cases there are."
   ]
  },
  {
   "cell_type": "code",
   "execution_count": 5,
   "metadata": {},
   "outputs": [
    {
     "data": {
      "text/html": [
       "<div>\n",
       "<style scoped>\n",
       "    .dataframe tbody tr th:only-of-type {\n",
       "        vertical-align: middle;\n",
       "    }\n",
       "\n",
       "    .dataframe tbody tr th {\n",
       "        vertical-align: top;\n",
       "    }\n",
       "\n",
       "    .dataframe thead th {\n",
       "        text-align: right;\n",
       "    }\n",
       "</style>\n",
       "<table border=\"1\" class=\"dataframe\">\n",
       "  <thead>\n",
       "    <tr style=\"text-align: right;\">\n",
       "      <th></th>\n",
       "      <th>Postcode</th>\n",
       "      <th>Borough</th>\n",
       "      <th>Neighbourhood</th>\n",
       "    </tr>\n",
       "  </thead>\n",
       "  <tbody>\n",
       "    <tr>\n",
       "      <th>9</th>\n",
       "      <td>M9A</td>\n",
       "      <td>Queen's Park</td>\n",
       "      <td>Queen's Park</td>\n",
       "    </tr>\n",
       "  </tbody>\n",
       "</table>\n",
       "</div>"
      ],
      "text/plain": [
       "  Postcode       Borough Neighbourhood\n",
       "9      M9A  Queen's Park  Queen's Park"
      ]
     },
     "execution_count": 5,
     "metadata": {},
     "output_type": "execute_result"
    }
   ],
   "source": [
    "indices = toronto_postcodes.loc[toronto_postcodes['Neighbourhood']==\"Not assigned\"].index\n",
    "toronto_postcodes.loc[indices,\"Neighbourhood\"] = toronto_postcodes.loc[indices,\"Borough\"]\n",
    "\n",
    "toronto_postcodes.loc[indices,:] "
   ]
  },
  {
   "cell_type": "markdown",
   "metadata": {},
   "source": [
    "OK. Just that one case. \n",
    "\n",
    "_Actually, having lived in Toronto, Queen's Park doesn't exactly qualify as a borough, but it looks like the Ontario legislature and government wish to have a postal code area all to themselves!_"
   ]
  },
  {
   "cell_type": "markdown",
   "metadata": {},
   "source": [
    "Now the fun bit - group the neighbourhoods by their postal code area and concatenate them into a comma separated list.\n",
    "Just for curiosity, check also if any postal code covers more than one borough."
   ]
  },
  {
   "cell_type": "code",
   "execution_count": 6,
   "metadata": {},
   "outputs": [
    {
     "data": {
      "text/html": [
       "<div>\n",
       "<style scoped>\n",
       "    .dataframe tbody tr th:only-of-type {\n",
       "        vertical-align: middle;\n",
       "    }\n",
       "\n",
       "    .dataframe tbody tr th {\n",
       "        vertical-align: top;\n",
       "    }\n",
       "\n",
       "    .dataframe thead th {\n",
       "        text-align: right;\n",
       "    }\n",
       "</style>\n",
       "<table border=\"1\" class=\"dataframe\">\n",
       "  <thead>\n",
       "    <tr style=\"text-align: right;\">\n",
       "      <th></th>\n",
       "      <th>Postal_code</th>\n",
       "      <th>Borough</th>\n",
       "      <th>Neighbourhood</th>\n",
       "    </tr>\n",
       "  </thead>\n",
       "  <tbody>\n",
       "    <tr>\n",
       "      <th>0</th>\n",
       "      <td>M1B</td>\n",
       "      <td>Scarborough</td>\n",
       "      <td>Rouge, Malvern</td>\n",
       "    </tr>\n",
       "    <tr>\n",
       "      <th>1</th>\n",
       "      <td>M1C</td>\n",
       "      <td>Scarborough</td>\n",
       "      <td>Highland Creek, Rouge Hill, Port Union</td>\n",
       "    </tr>\n",
       "    <tr>\n",
       "      <th>2</th>\n",
       "      <td>M1E</td>\n",
       "      <td>Scarborough</td>\n",
       "      <td>Guildwood, Morningside, West Hill</td>\n",
       "    </tr>\n",
       "    <tr>\n",
       "      <th>3</th>\n",
       "      <td>M1G</td>\n",
       "      <td>Scarborough</td>\n",
       "      <td>Woburn</td>\n",
       "    </tr>\n",
       "    <tr>\n",
       "      <th>4</th>\n",
       "      <td>M1H</td>\n",
       "      <td>Scarborough</td>\n",
       "      <td>Cedarbrae</td>\n",
       "    </tr>\n",
       "  </tbody>\n",
       "</table>\n",
       "</div>"
      ],
      "text/plain": [
       "  Postal_code      Borough                           Neighbourhood\n",
       "0         M1B  Scarborough                          Rouge, Malvern\n",
       "1         M1C  Scarborough  Highland Creek, Rouge Hill, Port Union\n",
       "2         M1E  Scarborough       Guildwood, Morningside, West Hill\n",
       "3         M1G  Scarborough                                  Woburn\n",
       "4         M1H  Scarborough                               Cedarbrae"
      ]
     },
     "execution_count": 6,
     "metadata": {},
     "output_type": "execute_result"
    }
   ],
   "source": [
    "tg = toronto_postcodes.groupby([\"Postcode\"])\n",
    "postcodes = list(tg.groups.keys())\n",
    "boroughs = []\n",
    "neighbourhoods = []\n",
    "\n",
    "for code in postcodes:    \n",
    "    area = tg.get_group(code)\n",
    "    if area[\"Borough\"].nunique() != 1:\n",
    "        print(f\"Postal code {code} covers an area in {area['Borough'].nunique()} boroughs. Keeping only the first one\")\n",
    "    boroughs.append(area.iloc[0,1])\n",
    "    neighbourhoods.append(pd.Series(area[\"Neighbourhood\"].unique()).str.cat(sep=\", \"))\n",
    "    \n",
    "toronto_work_df = pd.DataFrame({\n",
    "    \"Postal_code\": postcodes,\n",
    "    \"Borough\": boroughs,\n",
    "    \"Neighbourhood\": neighbourhoods\n",
    "})\n",
    "    \n",
    "toronto_work_df.head()    "
   ]
  },
  {
   "cell_type": "markdown",
   "metadata": {},
   "source": [
    "There is probably a better way of achieving this without looping over the individual groups of a dataframe, but we are not dealing with massive data, so I'll be lazy and leave it as is. (BTW, no postal code spread itself over more than one borough.\n",
    "\n",
    "### End of part 1: \n",
    "check the size of the resulting dataframe"
   ]
  },
  {
   "cell_type": "code",
   "execution_count": 7,
   "metadata": {},
   "outputs": [
    {
     "data": {
      "text/plain": [
       "(103, 3)"
      ]
     },
     "execution_count": 7,
     "metadata": {},
     "output_type": "execute_result"
    }
   ],
   "source": [
    "toronto_work_df.shape"
   ]
  },
  {
   "cell_type": "markdown",
   "metadata": {},
   "source": [
    "### An alternative way to get a list of Toronto's neighbourhoods (with geolocation data!)\n",
    "Just for fun, I will also load the neighbourhood geodata from: https://open.toronto.ca/dataset/neighbourhoods, which allows download in CSV, GeoJSON and a few other formats. This is easier than scraping Wikipedia, which also contains a different list of neighbourhoods and boroughs. The exact link for the CSV is https://ckan0.cf.opendata.inter.prod-toronto.ca/download_resource/a083c865-6d60-4d1d-b6c6-b0c8a85f9c15?format=csv&projection=4326, and it will be easy to load into a pandas dataframe. This dataset lacks \"boroughs\", which are the old municipalities before and the city of Toronto was amalgamated in 2001. This information could be useful at some point, and the geographic boundaries for these areas are available from https://open.toronto.ca/dataset/former-municipality-boundaries/. The GeoJSON file can be downloaded from https://ckan0.cf.opendata.inter.prod-toronto.ca/download_resource/f82dbe76-928e-4cec-8147-a21882f575e2?format=geojson&projection=4326"
   ]
  },
  {
   "cell_type": "code",
   "execution_count": 8,
   "metadata": {},
   "outputs": [
    {
     "data": {
      "text/html": [
       "<div>\n",
       "<style scoped>\n",
       "    .dataframe tbody tr th:only-of-type {\n",
       "        vertical-align: middle;\n",
       "    }\n",
       "\n",
       "    .dataframe tbody tr th {\n",
       "        vertical-align: top;\n",
       "    }\n",
       "\n",
       "    .dataframe thead th {\n",
       "        text-align: right;\n",
       "    }\n",
       "</style>\n",
       "<table border=\"1\" class=\"dataframe\">\n",
       "  <thead>\n",
       "    <tr style=\"text-align: right;\">\n",
       "      <th></th>\n",
       "      <th>_id</th>\n",
       "      <th>AREA_ID</th>\n",
       "      <th>AREA_ATTR_ID</th>\n",
       "      <th>PARENT_AREA_ID</th>\n",
       "      <th>AREA_SHORT_CODE</th>\n",
       "      <th>AREA_LONG_CODE</th>\n",
       "      <th>AREA_NAME</th>\n",
       "      <th>AREA_DESC</th>\n",
       "      <th>X</th>\n",
       "      <th>Y</th>\n",
       "      <th>LONGITUDE</th>\n",
       "      <th>LATITUDE</th>\n",
       "      <th>OBJECTID</th>\n",
       "      <th>Shape__Area</th>\n",
       "      <th>Shape__Length</th>\n",
       "      <th>geometry</th>\n",
       "    </tr>\n",
       "  </thead>\n",
       "  <tbody>\n",
       "    <tr>\n",
       "      <th>0</th>\n",
       "      <td>3221</td>\n",
       "      <td>25886861</td>\n",
       "      <td>25926662</td>\n",
       "      <td>49885</td>\n",
       "      <td>94</td>\n",
       "      <td>94</td>\n",
       "      <td>Wychwood (94)</td>\n",
       "      <td>Wychwood (94)</td>\n",
       "      <td>NaN</td>\n",
       "      <td>NaN</td>\n",
       "      <td>-79.425515</td>\n",
       "      <td>43.676919</td>\n",
       "      <td>16491505</td>\n",
       "      <td>3.217960e+06</td>\n",
       "      <td>7515.779658</td>\n",
       "      <td>{u'type': u'Polygon', u'coordinates': (((-79.4...</td>\n",
       "    </tr>\n",
       "    <tr>\n",
       "      <th>1</th>\n",
       "      <td>3222</td>\n",
       "      <td>25886820</td>\n",
       "      <td>25926663</td>\n",
       "      <td>49885</td>\n",
       "      <td>100</td>\n",
       "      <td>100</td>\n",
       "      <td>Yonge-Eglinton (100)</td>\n",
       "      <td>Yonge-Eglinton (100)</td>\n",
       "      <td>NaN</td>\n",
       "      <td>NaN</td>\n",
       "      <td>-79.403590</td>\n",
       "      <td>43.704689</td>\n",
       "      <td>16491521</td>\n",
       "      <td>3.160334e+06</td>\n",
       "      <td>7872.021074</td>\n",
       "      <td>{u'type': u'Polygon', u'coordinates': (((-79.4...</td>\n",
       "    </tr>\n",
       "    <tr>\n",
       "      <th>2</th>\n",
       "      <td>3223</td>\n",
       "      <td>25886834</td>\n",
       "      <td>25926664</td>\n",
       "      <td>49885</td>\n",
       "      <td>97</td>\n",
       "      <td>97</td>\n",
       "      <td>Yonge-St.Clair (97)</td>\n",
       "      <td>Yonge-St.Clair (97)</td>\n",
       "      <td>NaN</td>\n",
       "      <td>NaN</td>\n",
       "      <td>-79.397871</td>\n",
       "      <td>43.687859</td>\n",
       "      <td>16491537</td>\n",
       "      <td>2.222464e+06</td>\n",
       "      <td>8130.411276</td>\n",
       "      <td>{u'type': u'Polygon', u'coordinates': (((-79.3...</td>\n",
       "    </tr>\n",
       "    <tr>\n",
       "      <th>3</th>\n",
       "      <td>3224</td>\n",
       "      <td>25886593</td>\n",
       "      <td>25926665</td>\n",
       "      <td>49885</td>\n",
       "      <td>27</td>\n",
       "      <td>27</td>\n",
       "      <td>York University Heights (27)</td>\n",
       "      <td>York University Heights (27)</td>\n",
       "      <td>NaN</td>\n",
       "      <td>NaN</td>\n",
       "      <td>-79.488883</td>\n",
       "      <td>43.765736</td>\n",
       "      <td>16491553</td>\n",
       "      <td>2.541821e+07</td>\n",
       "      <td>25632.335242</td>\n",
       "      <td>{u'type': u'Polygon', u'coordinates': (((-79.5...</td>\n",
       "    </tr>\n",
       "    <tr>\n",
       "      <th>4</th>\n",
       "      <td>3225</td>\n",
       "      <td>25886688</td>\n",
       "      <td>25926666</td>\n",
       "      <td>49885</td>\n",
       "      <td>31</td>\n",
       "      <td>31</td>\n",
       "      <td>Yorkdale-Glen Park (31)</td>\n",
       "      <td>Yorkdale-Glen Park (31)</td>\n",
       "      <td>NaN</td>\n",
       "      <td>NaN</td>\n",
       "      <td>-79.457108</td>\n",
       "      <td>43.714672</td>\n",
       "      <td>16491569</td>\n",
       "      <td>1.156669e+07</td>\n",
       "      <td>13953.408098</td>\n",
       "      <td>{u'type': u'Polygon', u'coordinates': (((-79.4...</td>\n",
       "    </tr>\n",
       "  </tbody>\n",
       "</table>\n",
       "</div>"
      ],
      "text/plain": [
       "    _id   AREA_ID  AREA_ATTR_ID  PARENT_AREA_ID  AREA_SHORT_CODE  \\\n",
       "0  3221  25886861      25926662           49885               94   \n",
       "1  3222  25886820      25926663           49885              100   \n",
       "2  3223  25886834      25926664           49885               97   \n",
       "3  3224  25886593      25926665           49885               27   \n",
       "4  3225  25886688      25926666           49885               31   \n",
       "\n",
       "   AREA_LONG_CODE                     AREA_NAME                     AREA_DESC  \\\n",
       "0              94                 Wychwood (94)                 Wychwood (94)   \n",
       "1             100          Yonge-Eglinton (100)          Yonge-Eglinton (100)   \n",
       "2              97           Yonge-St.Clair (97)           Yonge-St.Clair (97)   \n",
       "3              27  York University Heights (27)  York University Heights (27)   \n",
       "4              31       Yorkdale-Glen Park (31)       Yorkdale-Glen Park (31)   \n",
       "\n",
       "    X   Y  LONGITUDE   LATITUDE  OBJECTID   Shape__Area  Shape__Length  \\\n",
       "0 NaN NaN -79.425515  43.676919  16491505  3.217960e+06    7515.779658   \n",
       "1 NaN NaN -79.403590  43.704689  16491521  3.160334e+06    7872.021074   \n",
       "2 NaN NaN -79.397871  43.687859  16491537  2.222464e+06    8130.411276   \n",
       "3 NaN NaN -79.488883  43.765736  16491553  2.541821e+07   25632.335242   \n",
       "4 NaN NaN -79.457108  43.714672  16491569  1.156669e+07   13953.408098   \n",
       "\n",
       "                                            geometry  \n",
       "0  {u'type': u'Polygon', u'coordinates': (((-79.4...  \n",
       "1  {u'type': u'Polygon', u'coordinates': (((-79.4...  \n",
       "2  {u'type': u'Polygon', u'coordinates': (((-79.3...  \n",
       "3  {u'type': u'Polygon', u'coordinates': (((-79.5...  \n",
       "4  {u'type': u'Polygon', u'coordinates': (((-79.4...  "
      ]
     },
     "execution_count": 8,
     "metadata": {},
     "output_type": "execute_result"
    }
   ],
   "source": [
    "# Download the CSV with Toronto neighbourhoods and load into a dataframe\n",
    "toronto_raw = pd.read_csv(\"https://ckan0.cf.opendata.inter.prod-toronto.ca/download_resource/a083c865-6d60-4d1d-b6c6-b0c8a85f9c15?format=csv&projection=4326\")\n",
    "toronto_raw.head()"
   ]
  },
  {
   "cell_type": "code",
   "execution_count": 17,
   "metadata": {},
   "outputs": [
    {
     "data": {
      "text/html": [
       "<div>\n",
       "<style scoped>\n",
       "    .dataframe tbody tr th:only-of-type {\n",
       "        vertical-align: middle;\n",
       "    }\n",
       "\n",
       "    .dataframe tbody tr th {\n",
       "        vertical-align: top;\n",
       "    }\n",
       "\n",
       "    .dataframe thead th {\n",
       "        text-align: right;\n",
       "    }\n",
       "</style>\n",
       "<table border=\"1\" class=\"dataframe\">\n",
       "  <thead>\n",
       "    <tr style=\"text-align: right;\">\n",
       "      <th></th>\n",
       "      <th>AREA_SHORT_CODE</th>\n",
       "      <th>LONGITUDE</th>\n",
       "      <th>LATITUDE</th>\n",
       "    </tr>\n",
       "  </thead>\n",
       "  <tbody>\n",
       "    <tr>\n",
       "      <th>0</th>\n",
       "      <td>94</td>\n",
       "      <td>-79.425515</td>\n",
       "      <td>43.676919</td>\n",
       "    </tr>\n",
       "    <tr>\n",
       "      <th>1</th>\n",
       "      <td>100</td>\n",
       "      <td>-79.403590</td>\n",
       "      <td>43.704689</td>\n",
       "    </tr>\n",
       "    <tr>\n",
       "      <th>2</th>\n",
       "      <td>97</td>\n",
       "      <td>-79.397871</td>\n",
       "      <td>43.687859</td>\n",
       "    </tr>\n",
       "    <tr>\n",
       "      <th>3</th>\n",
       "      <td>27</td>\n",
       "      <td>-79.488883</td>\n",
       "      <td>43.765736</td>\n",
       "    </tr>\n",
       "    <tr>\n",
       "      <th>4</th>\n",
       "      <td>31</td>\n",
       "      <td>-79.457108</td>\n",
       "      <td>43.714672</td>\n",
       "    </tr>\n",
       "  </tbody>\n",
       "</table>\n",
       "</div>"
      ],
      "text/plain": [
       "   AREA_SHORT_CODE  LONGITUDE   LATITUDE\n",
       "0               94 -79.425515  43.676919\n",
       "1              100 -79.403590  43.704689\n",
       "2               97 -79.397871  43.687859\n",
       "3               27 -79.488883  43.765736\n",
       "4               31 -79.457108  43.714672"
      ]
     },
     "execution_count": 17,
     "metadata": {},
     "output_type": "execute_result"
    }
   ],
   "source": [
    "# create a new dataframe with relevant columns only \n",
    "toronto_base = toronto_raw[[\"AREA_SHORT_CODE\", \"LONGITUDE\", \"LATITUDE\"]].copy()\n",
    "toronto_base.head()"
   ]
  },
  {
   "cell_type": "code",
   "execution_count": 18,
   "metadata": {},
   "outputs": [
    {
     "data": {
      "text/html": [
       "<div>\n",
       "<style scoped>\n",
       "    .dataframe tbody tr th:only-of-type {\n",
       "        vertical-align: middle;\n",
       "    }\n",
       "\n",
       "    .dataframe tbody tr th {\n",
       "        vertical-align: top;\n",
       "    }\n",
       "\n",
       "    .dataframe thead th {\n",
       "        text-align: right;\n",
       "    }\n",
       "</style>\n",
       "<table border=\"1\" class=\"dataframe\">\n",
       "  <thead>\n",
       "    <tr style=\"text-align: right;\">\n",
       "      <th></th>\n",
       "      <th>AREA_SHORT_CODE</th>\n",
       "      <th>LONGITUDE</th>\n",
       "      <th>LATITUDE</th>\n",
       "      <th>AREA_NAME</th>\n",
       "    </tr>\n",
       "  </thead>\n",
       "  <tbody>\n",
       "    <tr>\n",
       "      <th>0</th>\n",
       "      <td>94</td>\n",
       "      <td>-79.425515</td>\n",
       "      <td>43.676919</td>\n",
       "      <td>Wychwood</td>\n",
       "    </tr>\n",
       "    <tr>\n",
       "      <th>1</th>\n",
       "      <td>100</td>\n",
       "      <td>-79.403590</td>\n",
       "      <td>43.704689</td>\n",
       "      <td>Yonge-Eglinton</td>\n",
       "    </tr>\n",
       "    <tr>\n",
       "      <th>2</th>\n",
       "      <td>97</td>\n",
       "      <td>-79.397871</td>\n",
       "      <td>43.687859</td>\n",
       "      <td>Yonge-St.Clair</td>\n",
       "    </tr>\n",
       "    <tr>\n",
       "      <th>3</th>\n",
       "      <td>27</td>\n",
       "      <td>-79.488883</td>\n",
       "      <td>43.765736</td>\n",
       "      <td>York University Heights</td>\n",
       "    </tr>\n",
       "    <tr>\n",
       "      <th>4</th>\n",
       "      <td>31</td>\n",
       "      <td>-79.457108</td>\n",
       "      <td>43.714672</td>\n",
       "      <td>Yorkdale-Glen Park</td>\n",
       "    </tr>\n",
       "  </tbody>\n",
       "</table>\n",
       "</div>"
      ],
      "text/plain": [
       "   AREA_SHORT_CODE  LONGITUDE   LATITUDE                AREA_NAME\n",
       "0               94 -79.425515  43.676919                 Wychwood\n",
       "1              100 -79.403590  43.704689           Yonge-Eglinton\n",
       "2               97 -79.397871  43.687859           Yonge-St.Clair\n",
       "3               27 -79.488883  43.765736  York University Heights\n",
       "4               31 -79.457108  43.714672       Yorkdale-Glen Park"
      ]
     },
     "execution_count": 18,
     "metadata": {},
     "output_type": "execute_result"
    }
   ],
   "source": [
    "# add cleaned up names of neighbourhoods\n",
    "toronto_base[\"AREA_NAME\"] = [x[:x.find('(')-1] for x in toronto_raw[\"AREA_NAME\"]]                               \n",
    "toronto_base.head()"
   ]
  },
  {
   "cell_type": "code",
   "execution_count": 13,
   "metadata": {},
   "outputs": [],
   "source": [
    "# download GeoJSON with data for old municipalities (i.e., boroughs)\n",
    "url = \"https://ckan0.cf.opendata.inter.prod-toronto.ca/download_resource/f82dbe76-928e-4cec-8147-a21882f575e2?format=geojson&projection=4326\"\n",
    "boroughs_geoJSON = requests.get(url).json()"
   ]
  },
  {
   "cell_type": "markdown",
   "metadata": {},
   "source": [
    "For each neighbourhood create a \"Point\" object and loop over the boroughs GeoJSON to check which borough the point belongs to. "
   ]
  },
  {
   "cell_type": "code",
   "execution_count": 19,
   "metadata": {},
   "outputs": [],
   "source": [
    "boroughs = []\n",
    "for index, neighbourhood in toronto_base.iterrows():\n",
    "    # print(neighbourhood[\"AREA_NAME\"])\n",
    "    point = Point(neighbourhood[\"LONGITUDE\"], neighbourhood[\"LATITUDE\"])\n",
    "    for feature in boroughs_geoJSON['features']:\n",
    "        polygon = shape(feature['geometry'])\n",
    "        if polygon.contains(point):\n",
    "            # print(neighbourhood['AREA_NAME'],\" is in \",feature['properties']['AREA_NAME'])\n",
    "            boroughs.append(feature['properties']['AREA_NAME'])\n",
    "            break\n",
    "            \n",
    "toronto_base[\"BOROUGH\"] = boroughs\n",
    "toronto_base.sort_values(by=[\"BOROUGH\", \"AREA_SHORT_CODE\"], inplace=True)"
   ]
  },
  {
   "cell_type": "code",
   "execution_count": 20,
   "metadata": {},
   "outputs": [
    {
     "data": {
      "text/html": [
       "<div>\n",
       "<style scoped>\n",
       "    .dataframe tbody tr th:only-of-type {\n",
       "        vertical-align: middle;\n",
       "    }\n",
       "\n",
       "    .dataframe tbody tr th {\n",
       "        vertical-align: top;\n",
       "    }\n",
       "\n",
       "    .dataframe thead th {\n",
       "        text-align: right;\n",
       "    }\n",
       "</style>\n",
       "<table border=\"1\" class=\"dataframe\">\n",
       "  <thead>\n",
       "    <tr style=\"text-align: right;\">\n",
       "      <th></th>\n",
       "      <th>AREA_SHORT_CODE</th>\n",
       "      <th>LONGITUDE</th>\n",
       "      <th>LATITUDE</th>\n",
       "      <th>AREA_NAME</th>\n",
       "      <th>BOROUGH</th>\n",
       "    </tr>\n",
       "  </thead>\n",
       "  <tbody>\n",
       "    <tr>\n",
       "      <th>29</th>\n",
       "      <td>54</td>\n",
       "      <td>-79.312228</td>\n",
       "      <td>43.706800</td>\n",
       "      <td>O'Connor-Parkview</td>\n",
       "      <td>EAST YORK</td>\n",
       "    </tr>\n",
       "    <tr>\n",
       "      <th>57</th>\n",
       "      <td>55</td>\n",
       "      <td>-79.349984</td>\n",
       "      <td>43.707749</td>\n",
       "      <td>Thorncliffe Park</td>\n",
       "      <td>EAST YORK</td>\n",
       "    </tr>\n",
       "    <tr>\n",
       "      <th>9</th>\n",
       "      <td>56</td>\n",
       "      <td>-79.366072</td>\n",
       "      <td>43.703797</td>\n",
       "      <td>Leaside-Bennington</td>\n",
       "      <td>EAST YORK</td>\n",
       "    </tr>\n",
       "    <tr>\n",
       "      <th>91</th>\n",
       "      <td>57</td>\n",
       "      <td>-79.355630</td>\n",
       "      <td>43.688825</td>\n",
       "      <td>Broadview North</td>\n",
       "      <td>EAST YORK</td>\n",
       "    </tr>\n",
       "    <tr>\n",
       "      <th>32</th>\n",
       "      <td>58</td>\n",
       "      <td>-79.335488</td>\n",
       "      <td>43.696781</td>\n",
       "      <td>Old East York</td>\n",
       "      <td>EAST YORK</td>\n",
       "    </tr>\n",
       "  </tbody>\n",
       "</table>\n",
       "</div>"
      ],
      "text/plain": [
       "    AREA_SHORT_CODE  LONGITUDE   LATITUDE           AREA_NAME    BOROUGH\n",
       "29               54 -79.312228  43.706800   O'Connor-Parkview  EAST YORK\n",
       "57               55 -79.349984  43.707749    Thorncliffe Park  EAST YORK\n",
       "9                56 -79.366072  43.703797  Leaside-Bennington  EAST YORK\n",
       "91               57 -79.355630  43.688825     Broadview North  EAST YORK\n",
       "32               58 -79.335488  43.696781       Old East York  EAST YORK"
      ]
     },
     "execution_count": 20,
     "metadata": {},
     "output_type": "execute_result"
    }
   ],
   "source": [
    "toronto_base.head()"
   ]
  },
  {
   "cell_type": "code",
   "execution_count": 16,
   "metadata": {},
   "outputs": [
    {
     "data": {
      "text/plain": [
       "(140, 5)"
      ]
     },
     "execution_count": 16,
     "metadata": {},
     "output_type": "execute_result"
    }
   ],
   "source": [
    "toronto_base.shape"
   ]
  },
  {
   "cell_type": "markdown",
   "metadata": {},
   "source": [
    "So, there are 103 postal code areas in Toronto, and 140 official neighbourhoods recognised by the City of Toronto. For the purposes of the project, it is probably immaterial which of the approaches is used. \n",
    "\n",
    "### End of alternative data download"
   ]
  },
  {
   "cell_type": "markdown",
   "metadata": {},
   "source": [
    "---\n",
    "## Part 2:\n",
    "### Obtain latitude and longitude for the neighbourhoods\n",
    "\n",
    "Following the instructions, use the geocoder library and try searching for each postcode (possibly in an infinite loop?)"
   ]
  },
  {
   "cell_type": "code",
   "execution_count": 22,
   "metadata": {},
   "outputs": [
    {
     "name": "stdout",
     "output_type": "stream",
     "text": [
      "Defaulting to user installation because normal site-packages is not writeable\n",
      "Collecting geocoder\n",
      "  Downloading geocoder-1.38.1-py2.py3-none-any.whl (98 kB)\n",
      "\u001b[K     |████████████████████████████████| 98 kB 1.5 MB/s eta 0:00:01\n",
      "\u001b[?25hRequirement already satisfied: requests in /opt/local/Library/Frameworks/Python.framework/Versions/3.8/lib/python3.8/site-packages (from geocoder) (2.22.0)\n",
      "Collecting ratelim\n",
      "  Downloading ratelim-0.1.6-py2.py3-none-any.whl (4.0 kB)\n",
      "Collecting click\n",
      "  Downloading Click-7.0-py2.py3-none-any.whl (81 kB)\n",
      "\u001b[K     |████████████████████████████████| 81 kB 18.5 MB/s eta 0:00:01\n",
      "\u001b[?25hRequirement already satisfied: six in /opt/local/Library/Frameworks/Python.framework/Versions/3.8/lib/python3.8/site-packages (from geocoder) (1.13.0)\n",
      "Collecting future\n",
      "  Downloading future-0.18.2.tar.gz (829 kB)\n",
      "\u001b[K     |████████████████████████████████| 829 kB 24.3 MB/s eta 0:00:01\n",
      "\u001b[?25hRequirement already satisfied: chardet<3.1.0,>=3.0.2 in /opt/local/Library/Frameworks/Python.framework/Versions/3.8/lib/python3.8/site-packages (from requests->geocoder) (3.0.4)\n",
      "Requirement already satisfied: idna<2.9,>=2.5 in /opt/local/Library/Frameworks/Python.framework/Versions/3.8/lib/python3.8/site-packages (from requests->geocoder) (2.8)\n",
      "Requirement already satisfied: urllib3!=1.25.0,!=1.25.1,<1.26,>=1.21.1 in /opt/local/Library/Frameworks/Python.framework/Versions/3.8/lib/python3.8/site-packages (from requests->geocoder) (1.25.7)\n",
      "Requirement already satisfied: certifi>=2017.4.17 in /opt/local/Library/Frameworks/Python.framework/Versions/3.8/lib/python3.8/site-packages (from requests->geocoder) (2019.11.28)\n",
      "Requirement already satisfied: decorator in /opt/local/Library/Frameworks/Python.framework/Versions/3.8/lib/python3.8/site-packages (from ratelim->geocoder) (4.4.1)\n",
      "Building wheels for collected packages: future\n",
      "  Building wheel for future (setup.py) ... \u001b[?25ldone\n",
      "\u001b[?25h  Created wheel for future: filename=future-0.18.2-py3-none-any.whl size=491056 sha256=1efd5d016de52cc84bea70acd4ce72e6294065ec858346204332e4704bb99e15\n",
      "  Stored in directory: /Users/gutmanas/Library/Caches/pip/wheels/8e/70/28/3d6ccd6e315f65f245da085482a2e1c7d14b90b30f239e2cf4\n",
      "Successfully built future\n",
      "Installing collected packages: ratelim, click, future, geocoder\n",
      "\u001b[33m  WARNING: The scripts futurize and pasteurize are installed in '/Users/gutmanas/Library/Python/3.8/bin' which is not on PATH.\n",
      "  Consider adding this directory to PATH or, if you prefer to suppress this warning, use --no-warn-script-location.\u001b[0m\n",
      "\u001b[33m  WARNING: The script geocode is installed in '/Users/gutmanas/Library/Python/3.8/bin' which is not on PATH.\n",
      "  Consider adding this directory to PATH or, if you prefer to suppress this warning, use --no-warn-script-location.\u001b[0m\n",
      "Successfully installed click-7.0 future-0.18.2 geocoder-1.38.1 ratelim-0.1.6\n",
      "\u001b[33mWARNING: You are using pip version 20.0.1; however, version 20.0.2 is available.\n",
      "You should consider upgrading via the '/opt/local/bin/python -m pip install --upgrade pip' command.\u001b[0m\n"
     ]
    }
   ],
   "source": [
    "!pip install geocoder"
   ]
  },
  {
   "cell_type": "code",
   "execution_count": 23,
   "metadata": {},
   "outputs": [],
   "source": [
    "import geocoder"
   ]
  },
  {
   "cell_type": "code",
   "execution_count": 58,
   "metadata": {},
   "outputs": [],
   "source": [
    "def get_lat_lng(postal_code, suffix=\"Toronto, Ontario\", max_iter=10):\n",
    "    \"\"\"\n",
    "    combine the postal code and the city/province/country \n",
    "    no more that max_iter attempts \n",
    "    return a tuple of longitude and latitude\n",
    "    \"\"\"\n",
    "    result = None\n",
    "    i = 0\n",
    "    while result is None and i<max_iter:\n",
    "        g = geocoder.arcgis(f'{postal_code}, Toronto, Ontario')\n",
    "        result = g.json\n",
    "        i += 1\n",
    "    \n",
    "    if result:\n",
    "        return result['lat'], result['lng']\n",
    "    else:\n",
    "        return None"
   ]
  },
  {
   "cell_type": "code",
   "execution_count": 60,
   "metadata": {},
   "outputs": [
    {
     "name": "stdout",
     "output_type": "stream",
     "text": [
      "(43.70339500000006, -79.38596360499997)\n",
      "(43.71452278400005, -79.40695999999997)\n"
     ]
    }
   ],
   "source": []
  },
  {
   "cell_type": "code",
   "execution_count": null,
   "metadata": {},
   "outputs": [],
   "source": [
    "# Coordinates for Yonge and Eg (roughly central)\n",
    "longitude = -79.403590 \n",
    "latitude = 43.704689"
   ]
  },
  {
   "cell_type": "code",
   "execution_count": null,
   "metadata": {},
   "outputs": [],
   "source": [
    "map_toronto = folium.Map(location=[latitude, longitude], zoom_start=11)\n",
    "# add markers to map\n",
    "for lat, lng, borough, neighborhood in zip(toronto_base['LATITUDE'], toronto_base['LONGITUDE'], toronto_base['BOROUGH'], toronto_base['AREA_NAME']):\n",
    "    label = '{}, {}'.format(neighborhood, borough)\n",
    "    label = folium.Popup(label, parse_html=True)\n",
    "    folium.CircleMarker(\n",
    "        [lat, lng],\n",
    "        radius=5,\n",
    "        popup=label,\n",
    "        color='blue',\n",
    "        fill=True,\n",
    "        fill_color='#3186cc',\n",
    "        fill_opacity=0.7,\n",
    "        parse_html=False).add_to(map_toronto)  \n",
    "map_toronto"
   ]
  },
  {
   "cell_type": "code",
   "execution_count": 42,
   "metadata": {},
   "outputs": [
    {
     "data": {
      "text/html": [
       "<div>\n",
       "<style scoped>\n",
       "    .dataframe tbody tr th:only-of-type {\n",
       "        vertical-align: middle;\n",
       "    }\n",
       "\n",
       "    .dataframe tbody tr th {\n",
       "        vertical-align: top;\n",
       "    }\n",
       "\n",
       "    .dataframe thead th {\n",
       "        text-align: right;\n",
       "    }\n",
       "</style>\n",
       "<table border=\"1\" class=\"dataframe\">\n",
       "  <thead>\n",
       "    <tr style=\"text-align: right;\">\n",
       "      <th></th>\n",
       "      <th>Postcode</th>\n",
       "      <th>Borough</th>\n",
       "      <th>Neighbourhood</th>\n",
       "    </tr>\n",
       "  </thead>\n",
       "  <tbody>\n",
       "    <tr>\n",
       "      <th>182</th>\n",
       "      <td>M4S</td>\n",
       "      <td>Central Toronto</td>\n",
       "      <td>Davisville</td>\n",
       "    </tr>\n",
       "  </tbody>\n",
       "</table>\n",
       "</div>"
      ],
      "text/plain": [
       "    Postcode          Borough Neighbourhood\n",
       "182      M4S  Central Toronto    Davisville"
      ]
     },
     "execution_count": 42,
     "metadata": {},
     "output_type": "execute_result"
    }
   ],
   "source": [
    "tg.get_group(\"M4S\")"
   ]
  },
  {
   "cell_type": "code",
   "execution_count": null,
   "metadata": {},
   "outputs": [],
   "source": []
  }
 ],
 "metadata": {
  "kernelspec": {
   "display_name": "Python 3",
   "language": "python",
   "name": "python3"
  },
  "language_info": {
   "codemirror_mode": {
    "name": "ipython",
    "version": 3
   },
   "file_extension": ".py",
   "mimetype": "text/x-python",
   "name": "python",
   "nbconvert_exporter": "python",
   "pygments_lexer": "ipython3",
   "version": "3.8.1"
  }
 },
 "nbformat": 4,
 "nbformat_minor": 4
}
